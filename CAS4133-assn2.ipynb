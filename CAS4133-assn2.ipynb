version https://git-lfs.github.com/spec/v1
oid sha256:99dc9f8a77d0c22e95a1c60f00c54f6f3bc245f4a600e7f0e72b511e5d19bdb7
size 65078
